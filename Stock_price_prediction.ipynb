{
 "cells": [
  {
   "cell_type": "code",
   "execution_count": 2,
   "metadata": {},
   "outputs": [],
   "source": [
    "# Imports\n",
    "import numpy as np\n",
    "import pandas as pd\n",
    "import matplotlib.pyplot as plt\n",
    "import seaborn as sns\n",
    "sns.set()"
   ]
  },
  {
   "cell_type": "markdown",
   "metadata": {},
   "source": [
    "Now let's install yfinance to be able to import datasets from yahoo finance"
   ]
  },
  {
   "cell_type": "code",
   "execution_count": null,
   "metadata": {},
   "outputs": [],
   "source": [
    "!pip install yfinance --upgrade --no-cache-dir"
   ]
  },
  {
   "cell_type": "code",
   "execution_count": 6,
   "metadata": {
    "scrolled": true
   },
   "outputs": [
    {
     "name": "stdout",
     "output_type": "stream",
     "text": [
      "[*********************100%***********************]  1 of 1 downloaded\n"
     ]
    },
    {
     "data": {
      "text/html": [
       "<div>\n",
       "<style scoped>\n",
       "    .dataframe tbody tr th:only-of-type {\n",
       "        vertical-align: middle;\n",
       "    }\n",
       "\n",
       "    .dataframe tbody tr th {\n",
       "        vertical-align: top;\n",
       "    }\n",
       "\n",
       "    .dataframe thead th {\n",
       "        text-align: right;\n",
       "    }\n",
       "</style>\n",
       "<table border=\"1\" class=\"dataframe\">\n",
       "  <thead>\n",
       "    <tr style=\"text-align: right;\">\n",
       "      <th></th>\n",
       "      <th>Date</th>\n",
       "      <th>Open</th>\n",
       "      <th>High</th>\n",
       "      <th>Low</th>\n",
       "      <th>Close</th>\n",
       "      <th>Adj Close</th>\n",
       "      <th>Volume</th>\n",
       "    </tr>\n",
       "  </thead>\n",
       "  <tbody>\n",
       "    <tr>\n",
       "      <td>0</td>\n",
       "      <td>2018-01-02</td>\n",
       "      <td>107.63</td>\n",
       "      <td>108.02</td>\n",
       "      <td>106.81</td>\n",
       "      <td>107.95</td>\n",
       "      <td>103.16</td>\n",
       "      <td>13578800</td>\n",
       "    </tr>\n",
       "    <tr>\n",
       "      <td>1</td>\n",
       "      <td>2018-01-03</td>\n",
       "      <td>107.86</td>\n",
       "      <td>108.49</td>\n",
       "      <td>107.48</td>\n",
       "      <td>108.06</td>\n",
       "      <td>103.26</td>\n",
       "      <td>11901000</td>\n",
       "    </tr>\n",
       "    <tr>\n",
       "      <td>2</td>\n",
       "      <td>2018-01-04</td>\n",
       "      <td>108.36</td>\n",
       "      <td>110.03</td>\n",
       "      <td>108.20</td>\n",
       "      <td>109.04</td>\n",
       "      <td>104.74</td>\n",
       "      <td>12953700</td>\n",
       "    </tr>\n",
       "    <tr>\n",
       "      <td>3</td>\n",
       "      <td>2018-01-05</td>\n",
       "      <td>109.26</td>\n",
       "      <td>109.55</td>\n",
       "      <td>107.78</td>\n",
       "      <td>108.34</td>\n",
       "      <td>104.07</td>\n",
       "      <td>14155000</td>\n",
       "    </tr>\n",
       "    <tr>\n",
       "      <td>4</td>\n",
       "      <td>2018-01-08</td>\n",
       "      <td>108.15</td>\n",
       "      <td>108.68</td>\n",
       "      <td>107.70</td>\n",
       "      <td>108.50</td>\n",
       "      <td>104.22</td>\n",
       "      <td>12466500</td>\n",
       "    </tr>\n",
       "  </tbody>\n",
       "</table>\n",
       "</div>"
      ],
      "text/plain": [
       "        Date    Open    High     Low   Close  Adj Close    Volume\n",
       "0 2018-01-02  107.63  108.02  106.81  107.95     103.16  13578800\n",
       "1 2018-01-03  107.86  108.49  107.48  108.06     103.26  11901000\n",
       "2 2018-01-04  108.36  110.03  108.20  109.04     104.74  12953700\n",
       "3 2018-01-05  109.26  109.55  107.78  108.34     104.07  14155000\n",
       "4 2018-01-08  108.15  108.68  107.70  108.50     104.22  12466500"
      ]
     },
     "execution_count": 6,
     "metadata": {},
     "output_type": "execute_result"
    }
   ],
   "source": [
    "from pandas_datareader import data as pdr\n",
    "import yfinance as yf\n",
    "yf.pdr_override()\n",
    "df_full = pdr.get_data_yahoo(\"JPM\", start=\"2018-01-01\").reset_index()\n",
    "df_full.to_csv('JPM.csv',index=False)\n",
    "df_full.head()"
   ]
  },
  {
   "cell_type": "code",
   "execution_count": 34,
   "metadata": {
    "scrolled": true
   },
   "outputs": [
    {
     "name": "stdout",
     "output_type": "stream",
     "text": [
      "Coefficients: \n",
      " [0.96784685]\n",
      "Mean squared error: 1.04\n",
      "Variance score: 0.75\n"
     ]
    },
    {
     "data": {
      "image/png": "[encoded data removed]",
      "text/plain": [
       "<Figure size 432x288 with 1 Axes>"
      ]
     },
     "metadata": {},
     "output_type": "display_data"
    }
   ],
   "source": [
    "# 1. Linear Regression\n",
    "\n",
    "from sklearn import linear_model\n",
    "from sklearn.metrics import mean_squared_error, r2_score\n",
    "\n",
    "price_x = [[x] for x in df_full['Open']]\n",
    "price_y = [x for x in df_full['Close']]\n",
    "\n",
    "price_x_train = price_X[:-20]\n",
    "price_x_test = price_X[-20:]\n",
    "\n",
    "price_y_train = price_Y[:-20]\n",
    "price_y_test = price_Y[-20:]\n",
    "\n",
    "regr = linear_model.LinearRegression()\n",
    "regr.fit(price_x_train, price_y_train)\n",
    "\n",
    "# Make predictions using the testing set\n",
    "price_y_pred = regr.predict(price_x_test)\n",
    "\n",
    "# The coefficients\n",
    "print('Coefficients: \\n', regr.coef_)\n",
    "# The mean squared error\n",
    "print(\"Mean squared error: %.2f\"\n",
    "      % mean_squared_error(price_y_test, price_y_pred))\n",
    "# Explained variance score: 1 is perfect prediction\n",
    "print('Variance score: %.2f' % r2_score(price_y_test, price_y_pred))\n",
    "\n",
    "# Plot outputs\n",
    "plt.scatter(price_x_test, price_y_test,  color='black')\n",
    "plt.plot(price_x_test, price_y_pred, color='blue', linewidth=3)\n",
    "\n",
    "plt.xticks(())\n",
    "plt.yticks(())\n",
    "\n",
    "plt.show()"
   ]
  },
  {
   "cell_type": "code",
   "execution_count": null,
   "metadata": {},
   "outputs": [],
   "source": [
    "# Lasso"
   ]
  },
  {
   "cell_type": "code",
   "execution_count": null,
   "metadata": {},
   "outputs": [],
   "source": [
    "# Bayesian Regression"
   ]
  }
 ],
 "metadata": {
  "kernelspec": {
   "display_name": "Python 3",
   "language": "python",
   "name": "python3"
  },
  "language_info": {
   "codemirror_mode": {
    "name": "ipython",
    "version": 3
   },
   "file_extension": ".py",
   "mimetype": "text/x-python",
   "name": "python",
   "nbconvert_exporter": "python",
   "pygments_lexer": "ipython3",
   "version": "3.6.5"
  }
 },
 "nbformat": 4,
 "nbformat_minor": 2
}
